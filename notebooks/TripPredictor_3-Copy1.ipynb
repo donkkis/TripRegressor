{
 "cells": [
  {
   "cell_type": "markdown",
   "metadata": {},
   "source": [
    "# Multivariate regression for EV energy consumption prediction\n",
    "\n",
    "Data description:\n",
    "\n",
    "In 'trips_bulk.csv', EV data from electric buses operating in the City of Turku are recorded; in total, the dataset contains 25 256 unique trips that were made in year 2017 on one of the four route segments:\n",
    "\n",
    " - Turku harbor --> Marketplace\n",
    " - Marketplace --> Turku Airport\n",
    " - Turku Airport --> Marketplace\n",
    " - Marketplace --> Turku harbor\n",
    " \n",
    "The individual trips are encoded in the data by parameter 'duration', wherein a zero value designates the beginning point of a trip.\n",
    "\n",
    "The variables in the dataset are:\n",
    "\n",
    " - timestamp: A timestamp string in format yyyy-MM-DD HH:mm:ss\n",
    " - gpslong: GPS Longitude\n",
    " - gpslat: GPS Latitude\n",
    " - altitude: Approximate altitude from sea level in meters, that has been inferred from (gpslong, gpslat) by interpolation\n",
    " - speed: the instantaneous vehicle drivin speed in km/h\n",
    " - soc: the state of charge of the EV battery in %\n",
    " - temp: ambient temperature in deg C\n",
    " - duration: a running duration of the current trip in s\n",
    " \n",
    "Predicted variable is the (normalized) SOC, that is, given a sequence of the other variables, the task of our model is to infer the corresponding SOC sequence."
   ]
  },
  {
   "cell_type": "code",
   "execution_count": 1,
   "metadata": {
    "scrolled": true
   },
   "outputs": [],
   "source": [
    "import pandas as pd\n",
    "import numpy as np\n",
    "%matplotlib inline\n",
    "import matplotlib.pyplot as plt\n",
    "import seaborn as sns"
   ]
  },
  {
   "cell_type": "code",
   "execution_count": 2,
   "metadata": {
    "scrolled": true
   },
   "outputs": [],
   "source": [
    "data = pd.read_csv('../data/trips_bulk.csv')"
   ]
  },
  {
   "cell_type": "code",
   "execution_count": 3,
   "metadata": {},
   "outputs": [],
   "source": [
    "data = data[:100000]"
   ]
  },
  {
   "cell_type": "code",
   "execution_count": 4,
   "metadata": {},
   "outputs": [
    {
     "data": {
      "text/html": [
       "<div>\n",
       "<style scoped>\n",
       "    .dataframe tbody tr th:only-of-type {\n",
       "        vertical-align: middle;\n",
       "    }\n",
       "\n",
       "    .dataframe tbody tr th {\n",
       "        vertical-align: top;\n",
       "    }\n",
       "\n",
       "    .dataframe thead th {\n",
       "        text-align: right;\n",
       "    }\n",
       "</style>\n",
       "<table border=\"1\" class=\"dataframe\">\n",
       "  <thead>\n",
       "    <tr style=\"text-align: right;\">\n",
       "      <th></th>\n",
       "      <th>timestamp</th>\n",
       "      <th>gpslong</th>\n",
       "      <th>gpslat</th>\n",
       "      <th>altitude</th>\n",
       "      <th>speed</th>\n",
       "      <th>soc</th>\n",
       "      <th>temp</th>\n",
       "      <th>duration</th>\n",
       "    </tr>\n",
       "  </thead>\n",
       "  <tbody>\n",
       "    <tr>\n",
       "      <th>0</th>\n",
       "      <td>2017-01-01 12:07:35</td>\n",
       "      <td>22.273872</td>\n",
       "      <td>60.510728</td>\n",
       "      <td>56.888984</td>\n",
       "      <td>25.570312</td>\n",
       "      <td>57.516667</td>\n",
       "      <td>-0.661392</td>\n",
       "      <td>0</td>\n",
       "    </tr>\n",
       "    <tr>\n",
       "      <th>1</th>\n",
       "      <td>2017-01-01 12:07:40</td>\n",
       "      <td>22.273635</td>\n",
       "      <td>60.510382</td>\n",
       "      <td>56.192922</td>\n",
       "      <td>27.574219</td>\n",
       "      <td>57.420000</td>\n",
       "      <td>-0.677215</td>\n",
       "      <td>5</td>\n",
       "    </tr>\n",
       "    <tr>\n",
       "      <th>2</th>\n",
       "      <td>2017-01-01 12:07:45</td>\n",
       "      <td>22.273475</td>\n",
       "      <td>60.509920</td>\n",
       "      <td>55.654167</td>\n",
       "      <td>30.535156</td>\n",
       "      <td>57.320000</td>\n",
       "      <td>-0.693038</td>\n",
       "      <td>10</td>\n",
       "    </tr>\n",
       "    <tr>\n",
       "      <th>3</th>\n",
       "      <td>2017-01-01 12:07:50</td>\n",
       "      <td>22.273783</td>\n",
       "      <td>60.509452</td>\n",
       "      <td>55.177280</td>\n",
       "      <td>31.160156</td>\n",
       "      <td>57.233333</td>\n",
       "      <td>-0.708861</td>\n",
       "      <td>15</td>\n",
       "    </tr>\n",
       "    <tr>\n",
       "      <th>4</th>\n",
       "      <td>2017-01-01 12:07:55</td>\n",
       "      <td>22.274570</td>\n",
       "      <td>60.509088</td>\n",
       "      <td>53.519203</td>\n",
       "      <td>34.199219</td>\n",
       "      <td>57.140000</td>\n",
       "      <td>-0.724684</td>\n",
       "      <td>20</td>\n",
       "    </tr>\n",
       "  </tbody>\n",
       "</table>\n",
       "</div>"
      ],
      "text/plain": [
       "             timestamp    gpslong     gpslat   altitude      speed        soc  \\\n",
       "0  2017-01-01 12:07:35  22.273872  60.510728  56.888984  25.570312  57.516667   \n",
       "1  2017-01-01 12:07:40  22.273635  60.510382  56.192922  27.574219  57.420000   \n",
       "2  2017-01-01 12:07:45  22.273475  60.509920  55.654167  30.535156  57.320000   \n",
       "3  2017-01-01 12:07:50  22.273783  60.509452  55.177280  31.160156  57.233333   \n",
       "4  2017-01-01 12:07:55  22.274570  60.509088  53.519203  34.199219  57.140000   \n",
       "\n",
       "       temp  duration  \n",
       "0 -0.661392         0  \n",
       "1 -0.677215         5  \n",
       "2 -0.693038        10  \n",
       "3 -0.708861        15  \n",
       "4 -0.724684        20  "
      ]
     },
     "execution_count": 4,
     "metadata": {},
     "output_type": "execute_result"
    }
   ],
   "source": [
    "data.head()"
   ]
  },
  {
   "cell_type": "markdown",
   "metadata": {},
   "source": [
    "### Explore the data"
   ]
  },
  {
   "cell_type": "code",
   "execution_count": 5,
   "metadata": {
    "scrolled": true
   },
   "outputs": [
    {
     "data": {
      "text/plain": [
       "100000"
      ]
     },
     "execution_count": 5,
     "metadata": {},
     "output_type": "execute_result"
    }
   ],
   "source": [
    "len(data)"
   ]
  },
  {
   "cell_type": "code",
   "execution_count": 6,
   "metadata": {
    "scrolled": true
   },
   "outputs": [
    {
     "data": {
      "text/html": [
       "<div>\n",
       "<style scoped>\n",
       "    .dataframe tbody tr th:only-of-type {\n",
       "        vertical-align: middle;\n",
       "    }\n",
       "\n",
       "    .dataframe tbody tr th {\n",
       "        vertical-align: top;\n",
       "    }\n",
       "\n",
       "    .dataframe thead th {\n",
       "        text-align: right;\n",
       "    }\n",
       "</style>\n",
       "<table border=\"1\" class=\"dataframe\">\n",
       "  <thead>\n",
       "    <tr style=\"text-align: right;\">\n",
       "      <th></th>\n",
       "      <th>timestamp</th>\n",
       "      <th>gpslong</th>\n",
       "      <th>gpslat</th>\n",
       "      <th>altitude</th>\n",
       "      <th>speed</th>\n",
       "      <th>soc</th>\n",
       "      <th>temp</th>\n",
       "      <th>duration</th>\n",
       "    </tr>\n",
       "  </thead>\n",
       "  <tbody>\n",
       "    <tr>\n",
       "      <th>0</th>\n",
       "      <td>2017-01-01 12:07:35</td>\n",
       "      <td>22.273872</td>\n",
       "      <td>60.510728</td>\n",
       "      <td>56.888984</td>\n",
       "      <td>25.570312</td>\n",
       "      <td>57.516667</td>\n",
       "      <td>-0.661392</td>\n",
       "      <td>0</td>\n",
       "    </tr>\n",
       "    <tr>\n",
       "      <th>1</th>\n",
       "      <td>2017-01-01 12:07:40</td>\n",
       "      <td>22.273635</td>\n",
       "      <td>60.510382</td>\n",
       "      <td>56.192922</td>\n",
       "      <td>27.574219</td>\n",
       "      <td>57.420000</td>\n",
       "      <td>-0.677215</td>\n",
       "      <td>5</td>\n",
       "    </tr>\n",
       "    <tr>\n",
       "      <th>2</th>\n",
       "      <td>2017-01-01 12:07:45</td>\n",
       "      <td>22.273475</td>\n",
       "      <td>60.509920</td>\n",
       "      <td>55.654167</td>\n",
       "      <td>30.535156</td>\n",
       "      <td>57.320000</td>\n",
       "      <td>-0.693038</td>\n",
       "      <td>10</td>\n",
       "    </tr>\n",
       "    <tr>\n",
       "      <th>3</th>\n",
       "      <td>2017-01-01 12:07:50</td>\n",
       "      <td>22.273783</td>\n",
       "      <td>60.509452</td>\n",
       "      <td>55.177280</td>\n",
       "      <td>31.160156</td>\n",
       "      <td>57.233333</td>\n",
       "      <td>-0.708861</td>\n",
       "      <td>15</td>\n",
       "    </tr>\n",
       "    <tr>\n",
       "      <th>4</th>\n",
       "      <td>2017-01-01 12:07:55</td>\n",
       "      <td>22.274570</td>\n",
       "      <td>60.509088</td>\n",
       "      <td>53.519203</td>\n",
       "      <td>34.199219</td>\n",
       "      <td>57.140000</td>\n",
       "      <td>-0.724684</td>\n",
       "      <td>20</td>\n",
       "    </tr>\n",
       "  </tbody>\n",
       "</table>\n",
       "</div>"
      ],
      "text/plain": [
       "             timestamp    gpslong     gpslat   altitude      speed        soc  \\\n",
       "0  2017-01-01 12:07:35  22.273872  60.510728  56.888984  25.570312  57.516667   \n",
       "1  2017-01-01 12:07:40  22.273635  60.510382  56.192922  27.574219  57.420000   \n",
       "2  2017-01-01 12:07:45  22.273475  60.509920  55.654167  30.535156  57.320000   \n",
       "3  2017-01-01 12:07:50  22.273783  60.509452  55.177280  31.160156  57.233333   \n",
       "4  2017-01-01 12:07:55  22.274570  60.509088  53.519203  34.199219  57.140000   \n",
       "\n",
       "       temp  duration  \n",
       "0 -0.661392         0  \n",
       "1 -0.677215         5  \n",
       "2 -0.693038        10  \n",
       "3 -0.708861        15  \n",
       "4 -0.724684        20  "
      ]
     },
     "execution_count": 6,
     "metadata": {},
     "output_type": "execute_result"
    }
   ],
   "source": [
    "data.head()"
   ]
  },
  {
   "cell_type": "code",
   "execution_count": 7,
   "metadata": {
    "scrolled": true
   },
   "outputs": [
    {
     "data": {
      "text/html": [
       "<div>\n",
       "<style scoped>\n",
       "    .dataframe tbody tr th:only-of-type {\n",
       "        vertical-align: middle;\n",
       "    }\n",
       "\n",
       "    .dataframe tbody tr th {\n",
       "        vertical-align: top;\n",
       "    }\n",
       "\n",
       "    .dataframe thead th {\n",
       "        text-align: right;\n",
       "    }\n",
       "</style>\n",
       "<table border=\"1\" class=\"dataframe\">\n",
       "  <thead>\n",
       "    <tr style=\"text-align: right;\">\n",
       "      <th></th>\n",
       "      <th>count</th>\n",
       "      <th>mean</th>\n",
       "      <th>std</th>\n",
       "      <th>min</th>\n",
       "      <th>25%</th>\n",
       "      <th>50%</th>\n",
       "      <th>75%</th>\n",
       "      <th>max</th>\n",
       "    </tr>\n",
       "  </thead>\n",
       "  <tbody>\n",
       "    <tr>\n",
       "      <th>gpslong</th>\n",
       "      <td>100000.0</td>\n",
       "      <td>22.280646</td>\n",
       "      <td>0.010808</td>\n",
       "      <td>22.263518</td>\n",
       "      <td>22.269668</td>\n",
       "      <td>22.282350</td>\n",
       "      <td>22.287822</td>\n",
       "      <td>22.301045</td>\n",
       "    </tr>\n",
       "    <tr>\n",
       "      <th>gpslat</th>\n",
       "      <td>100000.0</td>\n",
       "      <td>60.480276</td>\n",
       "      <td>0.019935</td>\n",
       "      <td>60.450903</td>\n",
       "      <td>60.461375</td>\n",
       "      <td>60.478852</td>\n",
       "      <td>60.499802</td>\n",
       "      <td>60.511088</td>\n",
       "    </tr>\n",
       "    <tr>\n",
       "      <th>altitude</th>\n",
       "      <td>100000.0</td>\n",
       "      <td>27.785846</td>\n",
       "      <td>13.392020</td>\n",
       "      <td>7.455623</td>\n",
       "      <td>16.000889</td>\n",
       "      <td>24.868428</td>\n",
       "      <td>36.554545</td>\n",
       "      <td>57.200000</td>\n",
       "    </tr>\n",
       "    <tr>\n",
       "      <th>speed</th>\n",
       "      <td>100000.0</td>\n",
       "      <td>30.574375</td>\n",
       "      <td>16.407098</td>\n",
       "      <td>0.000000</td>\n",
       "      <td>18.941406</td>\n",
       "      <td>34.113281</td>\n",
       "      <td>43.839844</td>\n",
       "      <td>255.996094</td>\n",
       "    </tr>\n",
       "    <tr>\n",
       "      <th>soc</th>\n",
       "      <td>100000.0</td>\n",
       "      <td>70.945639</td>\n",
       "      <td>8.563717</td>\n",
       "      <td>24.042857</td>\n",
       "      <td>69.793750</td>\n",
       "      <td>73.181818</td>\n",
       "      <td>76.000000</td>\n",
       "      <td>84.100000</td>\n",
       "    </tr>\n",
       "    <tr>\n",
       "      <th>temp</th>\n",
       "      <td>100000.0</td>\n",
       "      <td>1.219536</td>\n",
       "      <td>4.032229</td>\n",
       "      <td>-39.849462</td>\n",
       "      <td>-0.588785</td>\n",
       "      <td>2.012308</td>\n",
       "      <td>3.695444</td>\n",
       "      <td>10.639733</td>\n",
       "    </tr>\n",
       "    <tr>\n",
       "      <th>duration</th>\n",
       "      <td>100000.0</td>\n",
       "      <td>544.320280</td>\n",
       "      <td>334.857363</td>\n",
       "      <td>0.000000</td>\n",
       "      <td>256.000000</td>\n",
       "      <td>527.000000</td>\n",
       "      <td>814.000000</td>\n",
       "      <td>1604.000000</td>\n",
       "    </tr>\n",
       "  </tbody>\n",
       "</table>\n",
       "</div>"
      ],
      "text/plain": [
       "             count        mean         std        min         25%         50%  \\\n",
       "gpslong   100000.0   22.280646    0.010808  22.263518   22.269668   22.282350   \n",
       "gpslat    100000.0   60.480276    0.019935  60.450903   60.461375   60.478852   \n",
       "altitude  100000.0   27.785846   13.392020   7.455623   16.000889   24.868428   \n",
       "speed     100000.0   30.574375   16.407098   0.000000   18.941406   34.113281   \n",
       "soc       100000.0   70.945639    8.563717  24.042857   69.793750   73.181818   \n",
       "temp      100000.0    1.219536    4.032229 -39.849462   -0.588785    2.012308   \n",
       "duration  100000.0  544.320280  334.857363   0.000000  256.000000  527.000000   \n",
       "\n",
       "                 75%          max  \n",
       "gpslong    22.287822    22.301045  \n",
       "gpslat     60.499802    60.511088  \n",
       "altitude   36.554545    57.200000  \n",
       "speed      43.839844   255.996094  \n",
       "soc        76.000000    84.100000  \n",
       "temp        3.695444    10.639733  \n",
       "duration  814.000000  1604.000000  "
      ]
     },
     "execution_count": 7,
     "metadata": {},
     "output_type": "execute_result"
    }
   ],
   "source": [
    "data.describe().transpose()"
   ]
  },
  {
   "cell_type": "markdown",
   "metadata": {},
   "source": [
    "Seems like we have some outliers at least in  temp and speed"
   ]
  },
  {
   "cell_type": "code",
   "execution_count": 8,
   "metadata": {},
   "outputs": [
    {
     "data": {
      "text/plain": [
       "array([[<matplotlib.axes._subplots.AxesSubplot object at 0x0000021716CC7710>,\n",
       "        <matplotlib.axes._subplots.AxesSubplot object at 0x0000021716E94240>,\n",
       "        <matplotlib.axes._subplots.AxesSubplot object at 0x0000021716EC2DA0>],\n",
       "       [<matplotlib.axes._subplots.AxesSubplot object at 0x0000021716ED7400>,\n",
       "        <matplotlib.axes._subplots.AxesSubplot object at 0x00000217171744A8>,\n",
       "        <matplotlib.axes._subplots.AxesSubplot object at 0x00000217171744E0>],\n",
       "       [<matplotlib.axes._subplots.AxesSubplot object at 0x00000217171E0C88>,\n",
       "        <matplotlib.axes._subplots.AxesSubplot object at 0x000002171721D828>,\n",
       "        <matplotlib.axes._subplots.AxesSubplot object at 0x0000021717246CF8>]],\n",
       "      dtype=object)"
      ]
     },
     "execution_count": 8,
     "metadata": {},
     "output_type": "execute_result"
    },
    {
     "data": {
      "image/png": "[encoded data removed]",
      "text/plain": [
       "<matplotlib.figure.Figure at 0x21716cc3358>"
      ]
     },
     "metadata": {},
     "output_type": "display_data"
    }
   ],
   "source": [
    "data.hist(bins=20, figsize=(15,10))"
   ]
  },
  {
   "cell_type": "markdown",
   "metadata": {},
   "source": [
    "A very nice way to outline the data is to plot a heatmap representation of (gpslat, gpslong) data utilizing matplotlibs 2d-histogram capability. With a binning dense enough, we clearly outline the representation of the turku ebus route 1"
   ]
  },
  {
   "cell_type": "code",
   "execution_count": 9,
   "metadata": {
    "scrolled": true
   },
   "outputs": [
    {
     "data": {
      "image/png": "[encoded data removed]",
      "text/plain": [
       "<matplotlib.figure.Figure at 0x217172ae908>"
      ]
     },
     "metadata": {},
     "output_type": "display_data"
    }
   ],
   "source": [
    "plt.figure()\n",
    "h, xedges, yedges, _ = plt.hist2d(data['gpslong'], data['gpslat'], bins=200, cmap='binary')\n",
    "plt.xlabel('GPS Longitude')\n",
    "plt.ylabel('GPS Latitude')\n",
    "plt.show()"
   ]
  },
  {
   "cell_type": "markdown",
   "metadata": {},
   "source": [
    "Next, we need some way of accessing the individual samples. We will build indexing based on the duration variable"
   ]
  },
  {
   "cell_type": "code",
   "execution_count": 10,
   "metadata": {},
   "outputs": [],
   "source": [
    "def build_sample_indices(data, col):\n",
    "    \"\"\"\n",
    "    Builds sequence indices based on duration data\n",
    "    Iterate over the rows in data and increment index whenever duration == 0\n",
    "    \n",
    "    Args:\n",
    "        data (pd.DataFrame) : The dataframe whose indices are to be built.\n",
    "        col (string) : The column of the dataframe with respect to the indexing\n",
    "    Returns:\n",
    "         data (pd.Series) : Data with an added column for the sequence indices\n",
    "    \"\"\"\n",
    "    \n",
    "    idx = 0\n",
    "    seq_indices = []\n",
    "    for _, row in data.iterrows():\n",
    "        if row[col] == 0:\n",
    "            #increment index and begin new sequence\n",
    "            idx += 1\n",
    "            seq_indices.append(idx)\n",
    "        else:\n",
    "            seq_indices.append(idx)\n",
    "    \n",
    "    data['sequence'] = seq_indices\n",
    "    \n",
    "    return data"
   ]
  },
  {
   "cell_type": "markdown",
   "metadata": {},
   "source": [
    "Iterate over the rows in the full dataset and build the sequence indices"
   ]
  },
  {
   "cell_type": "code",
   "execution_count": 11,
   "metadata": {},
   "outputs": [],
   "source": [
    "data = build_sample_indices(data, 'duration')"
   ]
  },
  {
   "cell_type": "code",
   "execution_count": 12,
   "metadata": {
    "scrolled": true
   },
   "outputs": [
    {
     "data": {
      "text/html": [
       "<div>\n",
       "<style scoped>\n",
       "    .dataframe tbody tr th:only-of-type {\n",
       "        vertical-align: middle;\n",
       "    }\n",
       "\n",
       "    .dataframe tbody tr th {\n",
       "        vertical-align: top;\n",
       "    }\n",
       "\n",
       "    .dataframe thead th {\n",
       "        text-align: right;\n",
       "    }\n",
       "</style>\n",
       "<table border=\"1\" class=\"dataframe\">\n",
       "  <thead>\n",
       "    <tr style=\"text-align: right;\">\n",
       "      <th></th>\n",
       "      <th>timestamp</th>\n",
       "      <th>gpslong</th>\n",
       "      <th>gpslat</th>\n",
       "      <th>altitude</th>\n",
       "      <th>speed</th>\n",
       "      <th>soc</th>\n",
       "      <th>temp</th>\n",
       "      <th>duration</th>\n",
       "      <th>sequence</th>\n",
       "    </tr>\n",
       "  </thead>\n",
       "  <tbody>\n",
       "    <tr>\n",
       "      <th>0</th>\n",
       "      <td>2017-01-01 12:07:35</td>\n",
       "      <td>22.273872</td>\n",
       "      <td>60.510728</td>\n",
       "      <td>56.888984</td>\n",
       "      <td>25.570312</td>\n",
       "      <td>57.516667</td>\n",
       "      <td>-0.661392</td>\n",
       "      <td>0</td>\n",
       "      <td>1</td>\n",
       "    </tr>\n",
       "    <tr>\n",
       "      <th>1</th>\n",
       "      <td>2017-01-01 12:07:40</td>\n",
       "      <td>22.273635</td>\n",
       "      <td>60.510382</td>\n",
       "      <td>56.192922</td>\n",
       "      <td>27.574219</td>\n",
       "      <td>57.420000</td>\n",
       "      <td>-0.677215</td>\n",
       "      <td>5</td>\n",
       "      <td>1</td>\n",
       "    </tr>\n",
       "    <tr>\n",
       "      <th>2</th>\n",
       "      <td>2017-01-01 12:07:45</td>\n",
       "      <td>22.273475</td>\n",
       "      <td>60.509920</td>\n",
       "      <td>55.654167</td>\n",
       "      <td>30.535156</td>\n",
       "      <td>57.320000</td>\n",
       "      <td>-0.693038</td>\n",
       "      <td>10</td>\n",
       "      <td>1</td>\n",
       "    </tr>\n",
       "    <tr>\n",
       "      <th>3</th>\n",
       "      <td>2017-01-01 12:07:50</td>\n",
       "      <td>22.273783</td>\n",
       "      <td>60.509452</td>\n",
       "      <td>55.177280</td>\n",
       "      <td>31.160156</td>\n",
       "      <td>57.233333</td>\n",
       "      <td>-0.708861</td>\n",
       "      <td>15</td>\n",
       "      <td>1</td>\n",
       "    </tr>\n",
       "    <tr>\n",
       "      <th>4</th>\n",
       "      <td>2017-01-01 12:07:55</td>\n",
       "      <td>22.274570</td>\n",
       "      <td>60.509088</td>\n",
       "      <td>53.519203</td>\n",
       "      <td>34.199219</td>\n",
       "      <td>57.140000</td>\n",
       "      <td>-0.724684</td>\n",
       "      <td>20</td>\n",
       "      <td>1</td>\n",
       "    </tr>\n",
       "  </tbody>\n",
       "</table>\n",
       "</div>"
      ],
      "text/plain": [
       "             timestamp    gpslong     gpslat   altitude      speed        soc  \\\n",
       "0  2017-01-01 12:07:35  22.273872  60.510728  56.888984  25.570312  57.516667   \n",
       "1  2017-01-01 12:07:40  22.273635  60.510382  56.192922  27.574219  57.420000   \n",
       "2  2017-01-01 12:07:45  22.273475  60.509920  55.654167  30.535156  57.320000   \n",
       "3  2017-01-01 12:07:50  22.273783  60.509452  55.177280  31.160156  57.233333   \n",
       "4  2017-01-01 12:07:55  22.274570  60.509088  53.519203  34.199219  57.140000   \n",
       "\n",
       "       temp  duration  sequence  \n",
       "0 -0.661392         0         1  \n",
       "1 -0.677215         5         1  \n",
       "2 -0.693038        10         1  \n",
       "3 -0.708861        15         1  \n",
       "4 -0.724684        20         1  "
      ]
     },
     "execution_count": 12,
     "metadata": {},
     "output_type": "execute_result"
    }
   ],
   "source": [
    "data.head()"
   ]
  },
  {
   "cell_type": "code",
   "execution_count": 13,
   "metadata": {},
   "outputs": [
    {
     "data": {
      "text/plain": [
       "array([  1,   2,   3,   4,   5,   6,   7,   8,   9,  10,  11,  12,  13,\n",
       "        14,  15,  16,  17,  18,  19,  20,  21,  22,  23,  24,  25,  26,\n",
       "        27,  28,  29,  30,  31,  32,  33,  34,  35,  36,  37,  38,  39,\n",
       "        40,  41,  42,  43,  44,  45,  46,  47,  48,  49,  50,  51,  52,\n",
       "        53,  54,  55,  56,  57,  58,  59,  60,  61,  62,  63,  64,  65,\n",
       "        66,  67,  68,  69,  70,  71,  72,  73,  74,  75,  76,  77,  78,\n",
       "        79,  80,  81,  82,  83,  84,  85,  86,  87,  88,  89,  90,  91,\n",
       "        92,  93,  94,  95,  96,  97,  98,  99, 100, 101, 102, 103, 104,\n",
       "       105, 106, 107, 108, 109, 110, 111, 112, 113, 114, 115, 116, 117,\n",
       "       118, 119, 120, 121, 122, 123, 124, 125, 126, 127, 128, 129, 130,\n",
       "       131, 132, 133, 134, 135, 136, 137, 138, 139, 140, 141, 142, 143,\n",
       "       144, 145, 146, 147, 148, 149, 150, 151, 152, 153, 154, 155, 156,\n",
       "       157, 158, 159, 160, 161, 162, 163, 164, 165, 166, 167, 168, 169,\n",
       "       170, 171, 172, 173, 174, 175, 176, 177, 178, 179, 180, 181, 182,\n",
       "       183, 184, 185, 186, 187, 188, 189, 190, 191, 192, 193, 194, 195,\n",
       "       196, 197, 198, 199, 200, 201, 202, 203, 204, 205, 206, 207, 208,\n",
       "       209, 210, 211, 212, 213, 214, 215, 216, 217, 218, 219, 220, 221,\n",
       "       222, 223, 224, 225, 226, 227, 228, 229, 230, 231, 232, 233, 234,\n",
       "       235, 236, 237, 238, 239, 240, 241, 242, 243, 244, 245, 246, 247,\n",
       "       248, 249, 250, 251, 252, 253, 254, 255, 256, 257, 258, 259, 260,\n",
       "       261, 262, 263, 264, 265, 266, 267, 268, 269, 270, 271, 272, 273,\n",
       "       274, 275, 276, 277, 278, 279, 280, 281, 282, 283, 284, 285, 286,\n",
       "       287, 288, 289, 290, 291, 292, 293, 294, 295, 296, 297, 298, 299,\n",
       "       300, 301, 302, 303, 304, 305, 306, 307, 308, 309, 310, 311, 312,\n",
       "       313, 314, 315, 316, 317, 318, 319, 320, 321, 322, 323, 324, 325,\n",
       "       326, 327, 328, 329, 330, 331, 332, 333, 334, 335, 336, 337, 338,\n",
       "       339, 340, 341, 342, 343, 344, 345, 346, 347, 348, 349, 350, 351,\n",
       "       352, 353, 354, 355, 356, 357, 358, 359, 360, 361, 362, 363, 364,\n",
       "       365, 366, 367, 368, 369, 370, 371, 372, 373, 374, 375, 376, 377,\n",
       "       378, 379, 380, 381, 382, 383, 384, 385, 386, 387, 388, 389, 390,\n",
       "       391, 392, 393, 394, 395, 396, 397, 398, 399, 400, 401, 402, 403,\n",
       "       404, 405, 406, 407, 408, 409, 410, 411, 412, 413, 414, 415, 416,\n",
       "       417, 418, 419, 420, 421, 422, 423, 424, 425, 426, 427, 428, 429,\n",
       "       430, 431, 432, 433, 434, 435, 436, 437, 438, 439, 440, 441, 442,\n",
       "       443, 444, 445, 446, 447, 448, 449, 450, 451, 452, 453, 454, 455,\n",
       "       456, 457, 458, 459, 460, 461, 462, 463, 464, 465, 466, 467, 468,\n",
       "       469, 470, 471, 472, 473, 474, 475, 476, 477, 478, 479, 480, 481,\n",
       "       482, 483, 484, 485, 486], dtype=int64)"
      ]
     },
     "execution_count": 13,
     "metadata": {},
     "output_type": "execute_result"
    }
   ],
   "source": [
    "data['sequence'].unique()"
   ]
  },
  {
   "cell_type": "markdown",
   "metadata": {},
   "source": [
    "Finally we get to do some actual feature engineering. First let's remove the outliers in temp and speed. "
   ]
  },
  {
   "cell_type": "code",
   "execution_count": 14,
   "metadata": {},
   "outputs": [
    {
     "data": {
      "image/png": "[encoded data removed]",
      "text/plain": [
       "<matplotlib.figure.Figure at 0x2171783ea90>"
      ]
     },
     "metadata": {},
     "output_type": "display_data"
    }
   ],
   "source": [
    "data['temp'].hist(bins=20)\n",
    "plt.yscale('log', nonposy='clip')"
   ]
  },
  {
   "cell_type": "code",
   "execution_count": 15,
   "metadata": {},
   "outputs": [
    {
     "data": {
      "image/png": "[encoded data removed]",
      "text/plain": [
       "<matplotlib.figure.Figure at 0x2171754dfd0>"
      ]
     },
     "metadata": {},
     "output_type": "display_data"
    }
   ],
   "source": [
    "data['speed'].hist(bins=20)\n",
    "plt.yscale('log', nonposy='clip')"
   ]
  },
  {
   "cell_type": "code",
   "execution_count": 16,
   "metadata": {},
   "outputs": [
    {
     "data": {
      "text/html": [
       "<div>\n",
       "<style scoped>\n",
       "    .dataframe tbody tr th:only-of-type {\n",
       "        vertical-align: middle;\n",
       "    }\n",
       "\n",
       "    .dataframe tbody tr th {\n",
       "        vertical-align: top;\n",
       "    }\n",
       "\n",
       "    .dataframe thead th {\n",
       "        text-align: right;\n",
       "    }\n",
       "</style>\n",
       "<table border=\"1\" class=\"dataframe\">\n",
       "  <thead>\n",
       "    <tr style=\"text-align: right;\">\n",
       "      <th></th>\n",
       "      <th>timestamp</th>\n",
       "      <th>gpslong</th>\n",
       "      <th>gpslat</th>\n",
       "      <th>altitude</th>\n",
       "      <th>speed</th>\n",
       "      <th>soc</th>\n",
       "      <th>temp</th>\n",
       "      <th>duration</th>\n",
       "      <th>sequence</th>\n",
       "    </tr>\n",
       "  </thead>\n",
       "  <tbody>\n",
       "    <tr>\n",
       "      <th>2495</th>\n",
       "      <td>2017-01-02 11:40:41</td>\n",
       "      <td>22.290632</td>\n",
       "      <td>60.509620</td>\n",
       "      <td>42.931516</td>\n",
       "      <td>255.996094</td>\n",
       "      <td>78.594231</td>\n",
       "      <td>-33.294118</td>\n",
       "      <td>159</td>\n",
       "      <td>13</td>\n",
       "    </tr>\n",
       "    <tr>\n",
       "      <th>59900</th>\n",
       "      <td>2017-02-14 20:02:25</td>\n",
       "      <td>22.284535</td>\n",
       "      <td>60.478697</td>\n",
       "      <td>24.844774</td>\n",
       "      <td>255.996094</td>\n",
       "      <td>76.278846</td>\n",
       "      <td>-39.473118</td>\n",
       "      <td>597</td>\n",
       "      <td>292</td>\n",
       "    </tr>\n",
       "    <tr>\n",
       "      <th>59902</th>\n",
       "      <td>2017-02-14 20:02:37</td>\n",
       "      <td>22.284535</td>\n",
       "      <td>60.478697</td>\n",
       "      <td>24.844774</td>\n",
       "      <td>255.996094</td>\n",
       "      <td>76.255769</td>\n",
       "      <td>-16.666667</td>\n",
       "      <td>609</td>\n",
       "      <td>292</td>\n",
       "    </tr>\n",
       "  </tbody>\n",
       "</table>\n",
       "</div>"
      ],
      "text/plain": [
       "                 timestamp    gpslong     gpslat   altitude       speed  \\\n",
       "2495   2017-01-02 11:40:41  22.290632  60.509620  42.931516  255.996094   \n",
       "59900  2017-02-14 20:02:25  22.284535  60.478697  24.844774  255.996094   \n",
       "59902  2017-02-14 20:02:37  22.284535  60.478697  24.844774  255.996094   \n",
       "\n",
       "             soc       temp  duration  sequence  \n",
       "2495   78.594231 -33.294118       159        13  \n",
       "59900  76.278846 -39.473118       597       292  \n",
       "59902  76.255769 -16.666667       609       292  "
      ]
     },
     "execution_count": 16,
     "metadata": {},
     "output_type": "execute_result"
    }
   ],
   "source": [
    "data[data['speed'] > 100]"
   ]
  },
  {
   "cell_type": "code",
   "execution_count": 17,
   "metadata": {},
   "outputs": [],
   "source": [
    "def remove_outliers(data):\n",
    "    \n",
    "    # for each sequence in data, replace the temp with median\n",
    "    # drop unusually high values in speed\n",
    "    seq_ids = list(data['sequence'].unique())\n",
    "    data = data.drop(index=data[data['speed'] > 100].index)\n",
    "    \n",
    "    for seq_id in seq_ids:\n",
    "        seq = data[data['sequence'] == seq_id]\n",
    "        data.loc[seq.index, 'temp'] = np.median(seq['temp'])\n",
    "                \n",
    "    return data"
   ]
  },
  {
   "cell_type": "code",
   "execution_count": 18,
   "metadata": {},
   "outputs": [],
   "source": [
    "data = remove_outliers(data)"
   ]
  },
  {
   "cell_type": "code",
   "execution_count": 19,
   "metadata": {},
   "outputs": [
    {
     "data": {
      "text/html": [
       "<div>\n",
       "<style scoped>\n",
       "    .dataframe tbody tr th:only-of-type {\n",
       "        vertical-align: middle;\n",
       "    }\n",
       "\n",
       "    .dataframe tbody tr th {\n",
       "        vertical-align: top;\n",
       "    }\n",
       "\n",
       "    .dataframe thead th {\n",
       "        text-align: right;\n",
       "    }\n",
       "</style>\n",
       "<table border=\"1\" class=\"dataframe\">\n",
       "  <thead>\n",
       "    <tr style=\"text-align: right;\">\n",
       "      <th></th>\n",
       "      <th>timestamp</th>\n",
       "      <th>gpslong</th>\n",
       "      <th>gpslat</th>\n",
       "      <th>altitude</th>\n",
       "      <th>speed</th>\n",
       "      <th>soc</th>\n",
       "      <th>temp</th>\n",
       "      <th>duration</th>\n",
       "      <th>sequence</th>\n",
       "    </tr>\n",
       "  </thead>\n",
       "  <tbody>\n",
       "    <tr>\n",
       "      <th>0</th>\n",
       "      <td>2017-01-01 12:07:35</td>\n",
       "      <td>22.273872</td>\n",
       "      <td>60.510728</td>\n",
       "      <td>56.888984</td>\n",
       "      <td>25.570312</td>\n",
       "      <td>57.516667</td>\n",
       "      <td>-0.428363</td>\n",
       "      <td>0</td>\n",
       "      <td>1</td>\n",
       "    </tr>\n",
       "    <tr>\n",
       "      <th>1</th>\n",
       "      <td>2017-01-01 12:07:40</td>\n",
       "      <td>22.273635</td>\n",
       "      <td>60.510382</td>\n",
       "      <td>56.192922</td>\n",
       "      <td>27.574219</td>\n",
       "      <td>57.420000</td>\n",
       "      <td>-0.428363</td>\n",
       "      <td>5</td>\n",
       "      <td>1</td>\n",
       "    </tr>\n",
       "    <tr>\n",
       "      <th>2</th>\n",
       "      <td>2017-01-01 12:07:45</td>\n",
       "      <td>22.273475</td>\n",
       "      <td>60.509920</td>\n",
       "      <td>55.654167</td>\n",
       "      <td>30.535156</td>\n",
       "      <td>57.320000</td>\n",
       "      <td>-0.428363</td>\n",
       "      <td>10</td>\n",
       "      <td>1</td>\n",
       "    </tr>\n",
       "    <tr>\n",
       "      <th>3</th>\n",
       "      <td>2017-01-01 12:07:50</td>\n",
       "      <td>22.273783</td>\n",
       "      <td>60.509452</td>\n",
       "      <td>55.177280</td>\n",
       "      <td>31.160156</td>\n",
       "      <td>57.233333</td>\n",
       "      <td>-0.428363</td>\n",
       "      <td>15</td>\n",
       "      <td>1</td>\n",
       "    </tr>\n",
       "    <tr>\n",
       "      <th>4</th>\n",
       "      <td>2017-01-01 12:07:55</td>\n",
       "      <td>22.274570</td>\n",
       "      <td>60.509088</td>\n",
       "      <td>53.519203</td>\n",
       "      <td>34.199219</td>\n",
       "      <td>57.140000</td>\n",
       "      <td>-0.428363</td>\n",
       "      <td>20</td>\n",
       "      <td>1</td>\n",
       "    </tr>\n",
       "  </tbody>\n",
       "</table>\n",
       "</div>"
      ],
      "text/plain": [
       "             timestamp    gpslong     gpslat   altitude      speed        soc  \\\n",
       "0  2017-01-01 12:07:35  22.273872  60.510728  56.888984  25.570312  57.516667   \n",
       "1  2017-01-01 12:07:40  22.273635  60.510382  56.192922  27.574219  57.420000   \n",
       "2  2017-01-01 12:07:45  22.273475  60.509920  55.654167  30.535156  57.320000   \n",
       "3  2017-01-01 12:07:50  22.273783  60.509452  55.177280  31.160156  57.233333   \n",
       "4  2017-01-01 12:07:55  22.274570  60.509088  53.519203  34.199219  57.140000   \n",
       "\n",
       "       temp  duration  sequence  \n",
       "0 -0.428363         0         1  \n",
       "1 -0.428363         5         1  \n",
       "2 -0.428363        10         1  \n",
       "3 -0.428363        15         1  \n",
       "4 -0.428363        20         1  "
      ]
     },
     "execution_count": 19,
     "metadata": {},
     "output_type": "execute_result"
    }
   ],
   "source": [
    "data.head()"
   ]
  },
  {
   "cell_type": "code",
   "execution_count": 20,
   "metadata": {},
   "outputs": [
    {
     "data": {
      "text/plain": [
       "<matplotlib.axes._subplots.AxesSubplot at 0x217176b4940>"
      ]
     },
     "execution_count": 20,
     "metadata": {},
     "output_type": "execute_result"
    },
    {
     "data": {
      "image/png": "[encoded data removed]",
      "text/plain": [
       "<matplotlib.figure.Figure at 0x217176b4198>"
      ]
     },
     "metadata": {},
     "output_type": "display_data"
    }
   ],
   "source": [
    "data['temp'].hist(bins=20)"
   ]
  },
  {
   "cell_type": "code",
   "execution_count": 21,
   "metadata": {},
   "outputs": [
    {
     "data": {
      "image/png": "[encoded data removed]",
      "text/plain": [
       "<matplotlib.figure.Figure at 0x217176b6cc0>"
      ]
     },
     "metadata": {},
     "output_type": "display_data"
    }
   ],
   "source": [
    "data['speed'].hist(bins=20)\n",
    "plt.yscale('log', nonposy='clip')"
   ]
  },
  {
   "cell_type": "markdown",
   "metadata": {},
   "source": [
    "We want to represent the data not tied to an absolute geolocation, but instead we want relative columns for gpslat, long and altitude. For gpslat / long, we want to replace with a running distance feature from the sequence origin. For this, we will utilize something called Haversine formula for computing the distance between two (gpslat, gpslong) pairs."
   ]
  },
  {
   "cell_type": "code",
   "execution_count": 22,
   "metadata": {},
   "outputs": [],
   "source": [
    "from math import radians, cos, sin, asin, sqrt\n",
    "\n",
    "def haversine(lon1, lat1, lon2, lat2):\n",
    "    \"\"\"\n",
    "    https://stackoverflow.com/questions/4913349/haversine-formula-in-python-bearing-and-distance-between-two-gps-points\n",
    "    \n",
    "    Calculate the great circle distance between two points \n",
    "    on the earth (specified in decimal degrees)\n",
    "    \"\"\"\n",
    "    # convert decimal degrees to radians \n",
    "    lon1, lat1, lon2, lat2 = map(radians, [lon1, lat1, lon2, lat2])\n",
    "\n",
    "    # haversine formula \n",
    "    dlon = lon2 - lon1 \n",
    "    dlat = lat2 - lat1 \n",
    "    a = sin(dlat/2)**2 + cos(lat1) * cos(lat2) * sin(dlon/2)**2\n",
    "    c = 2 * asin(sqrt(a)) \n",
    "    r = 6371 # Radius of earth in kilometers. Use 3956 for miles\n",
    "    return c * r\n"
   ]
  },
  {
   "cell_type": "code",
   "execution_count": 23,
   "metadata": {},
   "outputs": [
    {
     "data": {
      "text/plain": [
       "0.0"
      ]
     },
     "execution_count": 23,
     "metadata": {},
     "output_type": "execute_result"
    }
   ],
   "source": [
    "haversine(22.273871666666697, 60.510728333333304 , 22.273871666666697 , 60.510728333333304)"
   ]
  },
  {
   "cell_type": "code",
   "execution_count": 24,
   "metadata": {},
   "outputs": [],
   "source": [
    "def compute_distance_between_rows(row1, row2, gpslat_col, gpslong_col):\n",
    "    \"\"\"\n",
    "    Compute the haversine distance given two rows sliced from a pd.DataFrame.\n",
    "    Rows are expected to be identical in their columns\n",
    "    \n",
    "    Args:\n",
    "        row1 (pd.Series of shape (1, n_features)) \n",
    "        row2 (pd.Series of shape (1, n_features))\n",
    "        gpslat_col (string) : the identifier of the column of gps latitude in both rows\n",
    "        gpslong_col (string) : the identifier of the column of gps longitude in both rows\n",
    "    \n",
    "    Returns:\n",
    "        distance (float)\n",
    "    \"\"\"\n",
    "    lon1 = row1[gpslong_col]\n",
    "    lat1 = row1[gpslat_col]\n",
    "    lon2 = row2[gpslong_col]\n",
    "    lat2 = row2[gpslat_col]\n",
    "        \n",
    "    return haversine(lon1, lat1, lon2, lat2)\n",
    "    "
   ]
  },
  {
   "cell_type": "code",
   "execution_count": 25,
   "metadata": {},
   "outputs": [],
   "source": [
    "seq = data[data['sequence'] == 3]"
   ]
  },
  {
   "cell_type": "code",
   "execution_count": 26,
   "metadata": {},
   "outputs": [
    {
     "data": {
      "text/plain": [
       "0.0"
      ]
     },
     "execution_count": 26,
     "metadata": {},
     "output_type": "execute_result"
    }
   ],
   "source": [
    "compute_distance_between_rows(seq.iloc[0,:], seq.iloc[0,:], 'gpslat', 'gpslong')"
   ]
  },
  {
   "cell_type": "code",
   "execution_count": 27,
   "metadata": {},
   "outputs": [],
   "source": [
    "def convert_sequence_to_relative(seq):\n",
    "    \"\"\"\n",
    "    Converts gpslat, gpslong and altitude to running relative metrics\n",
    "    \n",
    "    Args:\n",
    "        seq (pd.DataFrame) : the sequence to be converted\n",
    "    \n",
    "    Returns:\n",
    "        distance (pd.Series) : running distance offset (meters) from the beginning of the series\n",
    "        rel_altitude (pd.Series) : running altitude offset (meters) from the beginning of the series\n",
    "        rel_soc (pd.Series) : the additive inverse of SOC offset from beginning of the series\n",
    "    \"\"\"\n",
    "    first_row = seq.iloc[0,:]\n",
    "    args = (first_row, 'gpslat', 'gpslong')\n",
    "    \n",
    "    distance = seq.apply(compute_distance_between_rows, args=args, axis=1)\n",
    "    rel_altitude = seq.apply(lambda row : row['altitude'] - first_row['altitude'], axis=1)\n",
    "    rel_soc = seq.apply(lambda row : -1*(row['soc'] - first_row['soc']), axis=1)\n",
    "    \n",
    "    return distance, rel_altitude, rel_soc\n",
    "    "
   ]
  },
  {
   "cell_type": "markdown",
   "metadata": {},
   "source": [
    "Testing"
   ]
  },
  {
   "cell_type": "code",
   "execution_count": null,
   "metadata": {},
   "outputs": [],
   "source": [
    "seq = data[data['sequence'] == 4]"
   ]
  },
  {
   "cell_type": "code",
   "execution_count": null,
   "metadata": {},
   "outputs": [],
   "source": [
    "seq"
   ]
  },
  {
   "cell_type": "code",
   "execution_count": null,
   "metadata": {},
   "outputs": [],
   "source": [
    "convert_sequence_to_relative(seq)"
   ]
  },
  {
   "cell_type": "code",
   "execution_count": null,
   "metadata": {},
   "outputs": [],
   "source": [
    "seq"
   ]
  },
  {
   "cell_type": "markdown",
   "metadata": {},
   "source": [
    "So now we have driven distance and altitude in a relative format, using the starting point of a sequence as the reference point. This should, theoretically, generalize better to unseen samples. Let's try this for the whole dummy dataset"
   ]
  },
  {
   "cell_type": "code",
   "execution_count": null,
   "metadata": {},
   "outputs": [],
   "source": [
    "def convert_dataset_to_relative(data):\n",
    "    \"\"\"\n",
    "    Iterate over sequences in the whole dataset and make the necessary conversions\n",
    "    \"\"\"\n",
    "    seq_ids = list(data['sequence'].unique())\n",
    "    \n",
    "    for seq_id in seq_ids:\n",
    "        seq = data[data['sequence'] == seq_id]\n",
    "        distance, rel_altitude, rel_soc = convert_sequence_to_relative(seq)\n",
    "        data.loc[seq.index, 'distance'] = distance\n",
    "        data.loc[seq.index, 'rel_altitude'] = rel_altitude\n",
    "        data.loc[seq.index, 'rel_soc'] = rel_soc\n",
    "    \n",
    "    return data\n",
    "    "
   ]
  },
  {
   "cell_type": "code",
   "execution_count": null,
   "metadata": {},
   "outputs": [],
   "source": [
    "data = convert_dataset_to_relative(data)"
   ]
  },
  {
   "cell_type": "code",
   "execution_count": null,
   "metadata": {},
   "outputs": [],
   "source": [
    "data"
   ]
  },
  {
   "cell_type": "markdown",
   "metadata": {},
   "source": [
    "Success!"
   ]
  },
  {
   "cell_type": "code",
   "execution_count": null,
   "metadata": {},
   "outputs": [],
   "source": [
    "data = pd.read_csv('./data/trips_bulk.csv')"
   ]
  },
  {
   "cell_type": "code",
   "execution_count": null,
   "metadata": {},
   "outputs": [],
   "source": [
    "data = data[1:5000]"
   ]
  },
  {
   "cell_type": "code",
   "execution_count": null,
   "metadata": {},
   "outputs": [],
   "source": [
    "len(data)"
   ]
  },
  {
   "cell_type": "code",
   "execution_count": null,
   "metadata": {},
   "outputs": [],
   "source": []
  }
 ],
 "metadata": {
  "kernelspec": {
   "display_name": "Python 3",
   "language": "python",
   "name": "python3"
  },
  "language_info": {
   "codemirror_mode": {
    "name": "ipython",
    "version": 3
   },
   "file_extension": ".py",
   "mimetype": "text/x-python",
   "name": "python",
   "nbconvert_exporter": "python",
   "pygments_lexer": "ipython3",
   "version": "3.6.4"
  }
 },
 "nbformat": 4,
 "nbformat_minor": 2
}
