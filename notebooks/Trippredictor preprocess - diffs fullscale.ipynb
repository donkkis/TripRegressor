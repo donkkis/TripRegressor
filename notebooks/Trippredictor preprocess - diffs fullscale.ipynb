{
 "cells": [
  {
   "cell_type": "markdown",
   "metadata": {},
   "source": [
    "8.10. convert relative columns to difference based features instead of running sums"
   ]
  },
  {
   "cell_type": "code",
   "execution_count": 1,
   "metadata": {},
   "outputs": [],
   "source": [
    "import pandas as pd\n",
    "import numpy as np\n",
    "import matplotlib.pyplot as plt\n",
    "import warnings\n",
    "from math import radians, cos, sin, asin, sqrt"
   ]
  },
  {
   "cell_type": "code",
   "execution_count": 2,
   "metadata": {},
   "outputs": [],
   "source": [
    "def build_sample_indices(data, col):\n",
    "    \"\"\"\n",
    "    Builds sequence indices based on duration data\n",
    "    Iterate over the rows in data and increment index whenever duration == 0\n",
    "    \n",
    "    Args:\n",
    "        data (pd.DataFrame) : The dataframe whose indices are to be built.\n",
    "        col (string) : The column of the dataframe with respect to the indexing\n",
    "    Returns:\n",
    "         data (pd.Series) : Data with an added column for the sequence indices\n",
    "    \"\"\"\n",
    "    \n",
    "    idx = 0\n",
    "    seq_indices = []\n",
    "    for _, row in data.iterrows():\n",
    "        if row[col] == 0:\n",
    "            #increment index and begin new sequence\n",
    "            idx += 1\n",
    "            seq_indices.append(idx)\n",
    "        else:\n",
    "            seq_indices.append(idx)\n",
    "    \n",
    "    data['sequence'] = seq_indices\n",
    "    \n",
    "    return data"
   ]
  },
  {
   "cell_type": "code",
   "execution_count": 3,
   "metadata": {},
   "outputs": [],
   "source": [
    "def haversine(lon1, lat1, lon2, lat2):\n",
    "    \"\"\"\n",
    "    https://stackoverflow.com/questions/4913349/haversine-formula-in-python-bearing-and-distance-between-two-gps-points\n",
    "    \n",
    "    Calculate the great circle distance between two points \n",
    "    on the earth (specified in decimal degrees)\n",
    "    \"\"\"\n",
    "    # convert decimal degrees to radians \n",
    "    lon1, lat1, lon2, lat2 = map(radians, [lon1, lat1, lon2, lat2])\n",
    "\n",
    "    # haversine formula \n",
    "    dlon = lon2 - lon1 \n",
    "    dlat = lat2 - lat1 \n",
    "    a = sin(dlat/2)**2 + cos(lat1) * cos(lat2) * sin(dlon/2)**2\n",
    "    c = 2 * asin(sqrt(a)) \n",
    "    r = 6371 # Radius of earth in kilometers. Use 3956 for miles\n",
    "    return c * r\n"
   ]
  },
  {
   "cell_type": "code",
   "execution_count": 4,
   "metadata": {},
   "outputs": [],
   "source": [
    "def compute_distance_between_rows(row1, row2, gpslat_col, gpslong_col):\n",
    "    \"\"\"\n",
    "    Compute the haversine distance given two rows sliced from a pd.DataFrame.\n",
    "    Rows are expected to be identical in their columns\n",
    "    \n",
    "    Args:\n",
    "        row1 (pd.Series of shape (1, n_features)) \n",
    "        row2 (pd.Series of shape (1, n_features))\n",
    "        gpslat_col (string) : the identifier of the column of gps latitude in both rows\n",
    "        gpslong_col (string) : the identifier of the column of gps longitude in both rows\n",
    "    \n",
    "    Returns:\n",
    "        distance (float)\n",
    "    \"\"\"\n",
    "    lon1 = row1[gpslong_col]\n",
    "    lat1 = row1[gpslat_col]\n",
    "    lon2 = row2[gpslong_col]\n",
    "    lat2 = row2[gpslat_col]\n",
    "        \n",
    "    return haversine(lon1, lat1, lon2, lat2)\n"
   ]
  },
  {
   "cell_type": "code",
   "execution_count": 5,
   "metadata": {},
   "outputs": [],
   "source": [
    "def convert_sequence_to_relative(seq):\n",
    "    \"\"\"\n",
    "    Converts gpslat, gpslong and altitude to running difference metrics\n",
    "    \n",
    "    Args:\n",
    "        seq (pd.DataFrame) : the sequence to be converted\n",
    "    \n",
    "    Returns:\n",
    "        distance (pd.Series) : distance offset (meters) from the previous value in the series\n",
    "        rel_altitude (pd.Series) : altitude offset (meters) from the previous value in the series\n",
    "        rel_soc (pd.Series) : the additive inverse of SOC offset from beginning of the series\n",
    "    \"\"\"\n",
    "    first_row = seq.iloc[0,:]\n",
    "    args = (first_row, 'gpslat', 'gpslong')\n",
    "    \n",
    "    distance = seq.apply(compute_distance_between_rows, args=args, axis=1)\n",
    "    distance = distance.diff()\n",
    "    distance.iloc[0] = 0\n",
    "    \n",
    "    rel_altitude = seq.apply(lambda row : row['altitude'] - first_row['altitude'], axis=1)\n",
    "    rel_altitude = rel_altitude.diff()\n",
    "    rel_altitude.iloc[0] = 0\n",
    "    \n",
    "    rel_soc = seq.apply(lambda row : -1*(row['soc'] - first_row['soc']), axis=1)\n",
    "    \n",
    "    return distance, rel_altitude, rel_soc\n"
   ]
  },
  {
   "cell_type": "code",
   "execution_count": 6,
   "metadata": {},
   "outputs": [],
   "source": [
    "def convert_dataset_to_relative(data):\n",
    "    \"\"\"\n",
    "    Iterate over sequences in the whole dataset and make the necessary conversions\n",
    "    \"\"\"\n",
    "    seq_ids = list(data['sequence'].unique())\n",
    "    \n",
    "    for seq_id in seq_ids:\n",
    "        seq = data[data['sequence'] == seq_id]\n",
    "        distance, rel_altitude, rel_soc = convert_sequence_to_relative(seq)\n",
    "        data.loc[seq.index, 'distance'] = distance\n",
    "        data.loc[seq.index, 'rel_altitude'] = rel_altitude\n",
    "        data.loc[seq.index, 'rel_soc'] = rel_soc\n",
    "    \n",
    "    data = data.drop(['gpslat', 'gpslong', 'altitude', 'soc'], axis=1)\n",
    "    \n",
    "    return data\n"
   ]
  },
  {
   "cell_type": "code",
   "execution_count": 7,
   "metadata": {},
   "outputs": [],
   "source": [
    "def remove_outliers(data):\n",
    "    \n",
    "    # for each sequence in data, replace the temp with median\n",
    "    # drop unusually high values in speed\n",
    "    seq_ids = list(data['sequence'].unique())\n",
    "    data = data.drop(index=data[data['speed'] > 100].index)\n",
    "    \n",
    "    for seq_id in seq_ids:\n",
    "        seq = data[data['sequence'] == seq_id]\n",
    "        data.loc[seq.index, 'temp'] = np.median(seq['temp'])\n",
    "                \n",
    "    return data"
   ]
  },
  {
   "cell_type": "code",
   "execution_count": 8,
   "metadata": {},
   "outputs": [],
   "source": [
    "def preprocess_dataset(data):\n",
    "    \n",
    "    #Apply transformations\n",
    "    data = build_sample_indices(data, 'duration')\n",
    "    data = remove_outliers(data)\n",
    "    data_rel = convert_dataset_to_relative(data)\n",
    "    \n",
    "    return data_rel, data\n",
    "    "
   ]
  },
  {
   "cell_type": "markdown",
   "metadata": {},
   "source": [
    "-----------------"
   ]
  },
  {
   "cell_type": "code",
   "execution_count": 9,
   "metadata": {},
   "outputs": [],
   "source": [
    "data = pd.read_csv('../data/trips_bulk.csv')"
   ]
  },
  {
   "cell_type": "code",
   "execution_count": 10,
   "metadata": {},
   "outputs": [
    {
     "data": {
      "text/plain": [
       "3956979"
      ]
     },
     "execution_count": 10,
     "metadata": {},
     "output_type": "execute_result"
    }
   ],
   "source": [
    "len(data)"
   ]
  },
  {
   "cell_type": "code",
   "execution_count": 11,
   "metadata": {},
   "outputs": [
    {
     "data": {
      "text/html": [
       "<div>\n",
       "<style scoped>\n",
       "    .dataframe tbody tr th:only-of-type {\n",
       "        vertical-align: middle;\n",
       "    }\n",
       "\n",
       "    .dataframe tbody tr th {\n",
       "        vertical-align: top;\n",
       "    }\n",
       "\n",
       "    .dataframe thead th {\n",
       "        text-align: right;\n",
       "    }\n",
       "</style>\n",
       "<table border=\"1\" class=\"dataframe\">\n",
       "  <thead>\n",
       "    <tr style=\"text-align: right;\">\n",
       "      <th></th>\n",
       "      <th>timestamp</th>\n",
       "      <th>gpslong</th>\n",
       "      <th>gpslat</th>\n",
       "      <th>altitude</th>\n",
       "      <th>speed</th>\n",
       "      <th>soc</th>\n",
       "      <th>temp</th>\n",
       "      <th>duration</th>\n",
       "    </tr>\n",
       "  </thead>\n",
       "  <tbody>\n",
       "    <tr>\n",
       "      <th>0</th>\n",
       "      <td>2017-01-01 12:07:35</td>\n",
       "      <td>22.273872</td>\n",
       "      <td>60.510728</td>\n",
       "      <td>56.888984</td>\n",
       "      <td>25.570312</td>\n",
       "      <td>57.516667</td>\n",
       "      <td>-0.661392</td>\n",
       "      <td>0</td>\n",
       "    </tr>\n",
       "    <tr>\n",
       "      <th>1</th>\n",
       "      <td>2017-01-01 12:07:40</td>\n",
       "      <td>22.273635</td>\n",
       "      <td>60.510382</td>\n",
       "      <td>56.192922</td>\n",
       "      <td>27.574219</td>\n",
       "      <td>57.420000</td>\n",
       "      <td>-0.677215</td>\n",
       "      <td>5</td>\n",
       "    </tr>\n",
       "    <tr>\n",
       "      <th>2</th>\n",
       "      <td>2017-01-01 12:07:45</td>\n",
       "      <td>22.273475</td>\n",
       "      <td>60.509920</td>\n",
       "      <td>55.654167</td>\n",
       "      <td>30.535156</td>\n",
       "      <td>57.320000</td>\n",
       "      <td>-0.693038</td>\n",
       "      <td>10</td>\n",
       "    </tr>\n",
       "    <tr>\n",
       "      <th>3</th>\n",
       "      <td>2017-01-01 12:07:50</td>\n",
       "      <td>22.273783</td>\n",
       "      <td>60.509452</td>\n",
       "      <td>55.177280</td>\n",
       "      <td>31.160156</td>\n",
       "      <td>57.233333</td>\n",
       "      <td>-0.708861</td>\n",
       "      <td>15</td>\n",
       "    </tr>\n",
       "    <tr>\n",
       "      <th>4</th>\n",
       "      <td>2017-01-01 12:07:55</td>\n",
       "      <td>22.274570</td>\n",
       "      <td>60.509088</td>\n",
       "      <td>53.519203</td>\n",
       "      <td>34.199219</td>\n",
       "      <td>57.140000</td>\n",
       "      <td>-0.724684</td>\n",
       "      <td>20</td>\n",
       "    </tr>\n",
       "  </tbody>\n",
       "</table>\n",
       "</div>"
      ],
      "text/plain": [
       "             timestamp    gpslong     gpslat   altitude      speed        soc  \\\n",
       "0  2017-01-01 12:07:35  22.273872  60.510728  56.888984  25.570312  57.516667   \n",
       "1  2017-01-01 12:07:40  22.273635  60.510382  56.192922  27.574219  57.420000   \n",
       "2  2017-01-01 12:07:45  22.273475  60.509920  55.654167  30.535156  57.320000   \n",
       "3  2017-01-01 12:07:50  22.273783  60.509452  55.177280  31.160156  57.233333   \n",
       "4  2017-01-01 12:07:55  22.274570  60.509088  53.519203  34.199219  57.140000   \n",
       "\n",
       "       temp  duration  \n",
       "0 -0.661392         0  \n",
       "1 -0.677215         5  \n",
       "2 -0.693038        10  \n",
       "3 -0.708861        15  \n",
       "4 -0.724684        20  "
      ]
     },
     "execution_count": 11,
     "metadata": {},
     "output_type": "execute_result"
    }
   ],
   "source": [
    "data.head()"
   ]
  },
  {
   "cell_type": "code",
   "execution_count": 12,
   "metadata": {},
   "outputs": [
    {
     "data": {
      "text/plain": [
       "array([[<matplotlib.axes._subplots.AxesSubplot object at 0x0000019CB91FA7B8>,\n",
       "        <matplotlib.axes._subplots.AxesSubplot object at 0x0000019CB92EE518>,\n",
       "        <matplotlib.axes._subplots.AxesSubplot object at 0x0000019CB932A518>],\n",
       "       [<matplotlib.axes._subplots.AxesSubplot object at 0x0000019CB92AC5F8>,\n",
       "        <matplotlib.axes._subplots.AxesSubplot object at 0x0000019CB95A3978>,\n",
       "        <matplotlib.axes._subplots.AxesSubplot object at 0x0000019CB95A39B0>],\n",
       "       [<matplotlib.axes._subplots.AxesSubplot object at 0x0000019CB9615DD8>,\n",
       "        <matplotlib.axes._subplots.AxesSubplot object at 0x0000019CB9658358>,\n",
       "        <matplotlib.axes._subplots.AxesSubplot object at 0x0000019CB9683278>]],\n",
       "      dtype=object)"
      ]
     },
     "execution_count": 12,
     "metadata": {},
     "output_type": "execute_result"
    },
    {
     "data": {
      "image/png": "[encoded data removed]",
      "text/plain": [
       "<matplotlib.figure.Figure at 0x19cb91d5630>"
      ]
     },
     "metadata": {},
     "output_type": "display_data"
    }
   ],
   "source": [
    "data.hist(bins=20, figsize=(15,10))"
   ]
  },
  {
   "cell_type": "markdown",
   "metadata": {},
   "source": [
    "Outliers will be handled in remove_outliers"
   ]
  },
  {
   "cell_type": "code",
   "execution_count": 13,
   "metadata": {},
   "outputs": [
    {
     "data": {
      "image/png": "[encoded data removed]",
      "text/plain": [
       "<matplotlib.figure.Figure at 0x19cb98da978>"
      ]
     },
     "metadata": {},
     "output_type": "display_data"
    }
   ],
   "source": [
    "data['temp'].hist(bins=20)\n",
    "plt.yscale('log', nonposy='clip')"
   ]
  },
  {
   "cell_type": "code",
   "execution_count": 14,
   "metadata": {},
   "outputs": [
    {
     "data": {
      "image/png": "[encoded data removed]",
      "text/plain": [
       "<matplotlib.figure.Figure at 0x19cb99f2fd0>"
      ]
     },
     "metadata": {},
     "output_type": "display_data"
    }
   ],
   "source": [
    "data['speed'].hist(bins=20)\n",
    "plt.yscale('log', nonposy='clip')"
   ]
  },
  {
   "cell_type": "markdown",
   "metadata": {},
   "source": [
    "### Convert full dataset"
   ]
  },
  {
   "cell_type": "code",
   "execution_count": 15,
   "metadata": {},
   "outputs": [],
   "source": [
    "data_rel, data = preprocess_dataset(data)"
   ]
  },
  {
   "cell_type": "code",
   "execution_count": 16,
   "metadata": {},
   "outputs": [
    {
     "data": {
      "text/html": [
       "<div>\n",
       "<style scoped>\n",
       "    .dataframe tbody tr th:only-of-type {\n",
       "        vertical-align: middle;\n",
       "    }\n",
       "\n",
       "    .dataframe tbody tr th {\n",
       "        vertical-align: top;\n",
       "    }\n",
       "\n",
       "    .dataframe thead th {\n",
       "        text-align: right;\n",
       "    }\n",
       "</style>\n",
       "<table border=\"1\" class=\"dataframe\">\n",
       "  <thead>\n",
       "    <tr style=\"text-align: right;\">\n",
       "      <th></th>\n",
       "      <th>timestamp</th>\n",
       "      <th>gpslong</th>\n",
       "      <th>gpslat</th>\n",
       "      <th>altitude</th>\n",
       "      <th>speed</th>\n",
       "      <th>soc</th>\n",
       "      <th>temp</th>\n",
       "      <th>duration</th>\n",
       "      <th>sequence</th>\n",
       "      <th>distance</th>\n",
       "      <th>rel_altitude</th>\n",
       "      <th>rel_soc</th>\n",
       "    </tr>\n",
       "  </thead>\n",
       "  <tbody>\n",
       "    <tr>\n",
       "      <th>0</th>\n",
       "      <td>2017-01-01 12:07:35</td>\n",
       "      <td>22.273872</td>\n",
       "      <td>60.510728</td>\n",
       "      <td>56.888984</td>\n",
       "      <td>25.570312</td>\n",
       "      <td>57.516667</td>\n",
       "      <td>-0.428363</td>\n",
       "      <td>0</td>\n",
       "      <td>1</td>\n",
       "      <td>0.000000</td>\n",
       "      <td>0.000000</td>\n",
       "      <td>-0.000000</td>\n",
       "    </tr>\n",
       "    <tr>\n",
       "      <th>1</th>\n",
       "      <td>2017-01-01 12:07:40</td>\n",
       "      <td>22.273635</td>\n",
       "      <td>60.510382</td>\n",
       "      <td>56.192922</td>\n",
       "      <td>27.574219</td>\n",
       "      <td>57.420000</td>\n",
       "      <td>-0.428363</td>\n",
       "      <td>5</td>\n",
       "      <td>1</td>\n",
       "      <td>0.040666</td>\n",
       "      <td>-0.696062</td>\n",
       "      <td>0.096667</td>\n",
       "    </tr>\n",
       "    <tr>\n",
       "      <th>2</th>\n",
       "      <td>2017-01-01 12:07:45</td>\n",
       "      <td>22.273475</td>\n",
       "      <td>60.509920</td>\n",
       "      <td>55.654167</td>\n",
       "      <td>30.535156</td>\n",
       "      <td>57.320000</td>\n",
       "      <td>-0.428363</td>\n",
       "      <td>10</td>\n",
       "      <td>1</td>\n",
       "      <td>0.051802</td>\n",
       "      <td>-0.538756</td>\n",
       "      <td>0.196667</td>\n",
       "    </tr>\n",
       "    <tr>\n",
       "      <th>3</th>\n",
       "      <td>2017-01-01 12:07:50</td>\n",
       "      <td>22.273783</td>\n",
       "      <td>60.509452</td>\n",
       "      <td>55.177280</td>\n",
       "      <td>31.160156</td>\n",
       "      <td>57.233333</td>\n",
       "      <td>-0.428363</td>\n",
       "      <td>15</td>\n",
       "      <td>1</td>\n",
       "      <td>0.049573</td>\n",
       "      <td>-0.476887</td>\n",
       "      <td>0.283333</td>\n",
       "    </tr>\n",
       "    <tr>\n",
       "      <th>4</th>\n",
       "      <td>2017-01-01 12:07:55</td>\n",
       "      <td>22.274570</td>\n",
       "      <td>60.509088</td>\n",
       "      <td>53.519203</td>\n",
       "      <td>34.199219</td>\n",
       "      <td>57.140000</td>\n",
       "      <td>-0.428363</td>\n",
       "      <td>20</td>\n",
       "      <td>1</td>\n",
       "      <td>0.044282</td>\n",
       "      <td>-1.658076</td>\n",
       "      <td>0.376667</td>\n",
       "    </tr>\n",
       "  </tbody>\n",
       "</table>\n",
       "</div>"
      ],
      "text/plain": [
       "             timestamp    gpslong     gpslat   altitude      speed        soc  \\\n",
       "0  2017-01-01 12:07:35  22.273872  60.510728  56.888984  25.570312  57.516667   \n",
       "1  2017-01-01 12:07:40  22.273635  60.510382  56.192922  27.574219  57.420000   \n",
       "2  2017-01-01 12:07:45  22.273475  60.509920  55.654167  30.535156  57.320000   \n",
       "3  2017-01-01 12:07:50  22.273783  60.509452  55.177280  31.160156  57.233333   \n",
       "4  2017-01-01 12:07:55  22.274570  60.509088  53.519203  34.199219  57.140000   \n",
       "\n",
       "       temp  duration  sequence  distance  rel_altitude   rel_soc  \n",
       "0 -0.428363         0         1  0.000000      0.000000 -0.000000  \n",
       "1 -0.428363         5         1  0.040666     -0.696062  0.096667  \n",
       "2 -0.428363        10         1  0.051802     -0.538756  0.196667  \n",
       "3 -0.428363        15         1  0.049573     -0.476887  0.283333  \n",
       "4 -0.428363        20         1  0.044282     -1.658076  0.376667  "
      ]
     },
     "execution_count": 16,
     "metadata": {},
     "output_type": "execute_result"
    }
   ],
   "source": [
    "data.head()"
   ]
  },
  {
   "cell_type": "code",
   "execution_count": 17,
   "metadata": {},
   "outputs": [
    {
     "data": {
      "image/png": "[encoded data removed]",
      "text/plain": [
       "<matplotlib.figure.Figure at 0x19cb9efbbe0>"
      ]
     },
     "metadata": {},
     "output_type": "display_data"
    }
   ],
   "source": [
    "data['temp'].hist(bins=20)\n",
    "plt.yscale('log', nonposy='clip')"
   ]
  },
  {
   "cell_type": "code",
   "execution_count": 18,
   "metadata": {},
   "outputs": [
    {
     "data": {
      "image/png": "[encoded data removed]",
      "text/plain": [
       "<matplotlib.figure.Figure at 0x19cb9cc7fd0>"
      ]
     },
     "metadata": {},
     "output_type": "display_data"
    }
   ],
   "source": [
    "data['speed'].hist(bins=20)\n",
    "plt.yscale('log', nonposy='clip')"
   ]
  },
  {
   "cell_type": "code",
   "execution_count": 19,
   "metadata": {},
   "outputs": [
    {
     "data": {
      "image/png": "[encoded data removed]",
      "text/plain": [
       "<matplotlib.figure.Figure at 0x19cb9ccfef0>"
      ]
     },
     "metadata": {},
     "output_type": "display_data"
    }
   ],
   "source": [
    "data['gpslong'].hist(bins=20)\n",
    "plt.yscale('log', nonposy='clip')"
   ]
  },
  {
   "cell_type": "code",
   "execution_count": 20,
   "metadata": {},
   "outputs": [
    {
     "data": {
      "image/png": "[encoded data removed]",
      "text/plain": [
       "<matplotlib.figure.Figure at 0x19cb99d3080>"
      ]
     },
     "metadata": {},
     "output_type": "display_data"
    }
   ],
   "source": [
    "data['gpslat'].hist(bins=20)\n",
    "plt.yscale('log', nonposy='clip')"
   ]
  },
  {
   "cell_type": "code",
   "execution_count": 21,
   "metadata": {},
   "outputs": [
    {
     "data": {
      "image/png": "[encoded data removed]",
      "text/plain": [
       "<matplotlib.figure.Figure at 0x19cb9e4a3c8>"
      ]
     },
     "metadata": {},
     "output_type": "display_data"
    }
   ],
   "source": [
    "data['altitude'].hist(bins=20)\n",
    "plt.yscale('log', nonposy='clip')"
   ]
  },
  {
   "cell_type": "code",
   "execution_count": 22,
   "metadata": {},
   "outputs": [
    {
     "data": {
      "image/png": "[encoded data removed]",
      "text/plain": [
       "<matplotlib.figure.Figure at 0x19cb9eeeda0>"
      ]
     },
     "metadata": {},
     "output_type": "display_data"
    }
   ],
   "source": [
    "data['soc'].hist(bins=20)\n",
    "plt.yscale('log', nonposy='clip')"
   ]
  },
  {
   "cell_type": "code",
   "execution_count": 23,
   "metadata": {},
   "outputs": [
    {
     "data": {
      "image/png": "[encoded data removed]",
      "text/plain": [
       "<matplotlib.figure.Figure at 0x19ca966e8d0>"
      ]
     },
     "metadata": {},
     "output_type": "display_data"
    }
   ],
   "source": [
    "data['distance'].hist(bins=20)\n",
    "plt.yscale('log', nonposy='clip')"
   ]
  },
  {
   "cell_type": "code",
   "execution_count": 24,
   "metadata": {},
   "outputs": [
    {
     "data": {
      "image/png": "[encoded data removed]",
      "text/plain": [
       "<matplotlib.figure.Figure at 0x19cb99d7d68>"
      ]
     },
     "metadata": {},
     "output_type": "display_data"
    }
   ],
   "source": [
    "data['rel_altitude'].hist(bins=20)\n",
    "plt.yscale('log', nonposy='clip')"
   ]
  },
  {
   "cell_type": "markdown",
   "metadata": {},
   "source": [
    "M examples"
   ]
  },
  {
   "cell_type": "code",
   "execution_count": 25,
   "metadata": {},
   "outputs": [
    {
     "data": {
      "text/plain": [
       "25256"
      ]
     },
     "execution_count": 25,
     "metadata": {},
     "output_type": "execute_result"
    }
   ],
   "source": [
    "len(data['sequence'].unique())"
   ]
  },
  {
   "cell_type": "code",
   "execution_count": 26,
   "metadata": {},
   "outputs": [
    {
     "data": {
      "text/plain": [
       "timestamp       0\n",
       "speed           0\n",
       "temp            0\n",
       "duration        0\n",
       "sequence        0\n",
       "distance        0\n",
       "rel_altitude    0\n",
       "rel_soc         0\n",
       "dtype: int64"
      ]
     },
     "execution_count": 26,
     "metadata": {},
     "output_type": "execute_result"
    }
   ],
   "source": [
    "data_rel.isna().sum()"
   ]
  },
  {
   "cell_type": "code",
   "execution_count": 27,
   "metadata": {},
   "outputs": [],
   "source": [
    "data_rel.to_csv('../data/trips_diff_fullscale.csv', index=False)"
   ]
  },
  {
   "cell_type": "markdown",
   "metadata": {},
   "source": [
    "***"
   ]
  }
 ],
 "metadata": {
  "kernelspec": {
   "display_name": "Python 3",
   "language": "python",
   "name": "python3"
  },
  "language_info": {
   "codemirror_mode": {
    "name": "ipython",
    "version": 3
   },
   "file_extension": ".py",
   "mimetype": "text/x-python",
   "name": "python",
   "nbconvert_exporter": "python",
   "pygments_lexer": "ipython3",
   "version": "3.6.4"
  }
 },
 "nbformat": 4,
 "nbformat_minor": 2
}
