{
 "cells": [
  {
   "cell_type": "code",
   "execution_count": 1,
   "metadata": {},
   "outputs": [],
   "source": [
    "import pandas as pd"
   ]
  },
  {
   "cell_type": "code",
   "execution_count": 2,
   "metadata": {},
   "outputs": [],
   "source": [
    "data = pd.read_csv('../data/trips_bulk_preprocess.csv')"
   ]
  },
  {
   "cell_type": "code",
   "execution_count": 3,
   "metadata": {},
   "outputs": [
    {
     "data": {
      "text/html": [
       "<div>\n",
       "<style scoped>\n",
       "    .dataframe tbody tr th:only-of-type {\n",
       "        vertical-align: middle;\n",
       "    }\n",
       "\n",
       "    .dataframe tbody tr th {\n",
       "        vertical-align: top;\n",
       "    }\n",
       "\n",
       "    .dataframe thead th {\n",
       "        text-align: right;\n",
       "    }\n",
       "</style>\n",
       "<table border=\"1\" class=\"dataframe\">\n",
       "  <thead>\n",
       "    <tr style=\"text-align: right;\">\n",
       "      <th></th>\n",
       "      <th>timestamp</th>\n",
       "      <th>speed</th>\n",
       "      <th>temp</th>\n",
       "      <th>duration</th>\n",
       "      <th>sequence</th>\n",
       "      <th>distance</th>\n",
       "      <th>rel_altitude</th>\n",
       "      <th>rel_soc</th>\n",
       "    </tr>\n",
       "  </thead>\n",
       "  <tbody>\n",
       "    <tr>\n",
       "      <th>0</th>\n",
       "      <td>2017-01-01 12:07:35</td>\n",
       "      <td>25.570312</td>\n",
       "      <td>-0.428363</td>\n",
       "      <td>0</td>\n",
       "      <td>1</td>\n",
       "      <td>0.000000</td>\n",
       "      <td>0.000000</td>\n",
       "      <td>-0.000000</td>\n",
       "    </tr>\n",
       "    <tr>\n",
       "      <th>1</th>\n",
       "      <td>2017-01-01 12:07:40</td>\n",
       "      <td>27.574219</td>\n",
       "      <td>-0.428363</td>\n",
       "      <td>5</td>\n",
       "      <td>1</td>\n",
       "      <td>0.040666</td>\n",
       "      <td>-0.696062</td>\n",
       "      <td>0.096667</td>\n",
       "    </tr>\n",
       "    <tr>\n",
       "      <th>2</th>\n",
       "      <td>2017-01-01 12:07:45</td>\n",
       "      <td>30.535156</td>\n",
       "      <td>-0.428363</td>\n",
       "      <td>10</td>\n",
       "      <td>1</td>\n",
       "      <td>0.092468</td>\n",
       "      <td>-1.234818</td>\n",
       "      <td>0.196667</td>\n",
       "    </tr>\n",
       "    <tr>\n",
       "      <th>3</th>\n",
       "      <td>2017-01-01 12:07:50</td>\n",
       "      <td>31.160156</td>\n",
       "      <td>-0.428363</td>\n",
       "      <td>15</td>\n",
       "      <td>1</td>\n",
       "      <td>0.142041</td>\n",
       "      <td>-1.711705</td>\n",
       "      <td>0.283333</td>\n",
       "    </tr>\n",
       "    <tr>\n",
       "      <th>4</th>\n",
       "      <td>2017-01-01 12:07:55</td>\n",
       "      <td>34.199219</td>\n",
       "      <td>-0.428363</td>\n",
       "      <td>20</td>\n",
       "      <td>1</td>\n",
       "      <td>0.186323</td>\n",
       "      <td>-3.369781</td>\n",
       "      <td>0.376667</td>\n",
       "    </tr>\n",
       "  </tbody>\n",
       "</table>\n",
       "</div>"
      ],
      "text/plain": [
       "             timestamp      speed      temp  duration  sequence  distance  \\\n",
       "0  2017-01-01 12:07:35  25.570312 -0.428363         0         1  0.000000   \n",
       "1  2017-01-01 12:07:40  27.574219 -0.428363         5         1  0.040666   \n",
       "2  2017-01-01 12:07:45  30.535156 -0.428363        10         1  0.092468   \n",
       "3  2017-01-01 12:07:50  31.160156 -0.428363        15         1  0.142041   \n",
       "4  2017-01-01 12:07:55  34.199219 -0.428363        20         1  0.186323   \n",
       "\n",
       "   rel_altitude   rel_soc  \n",
       "0      0.000000 -0.000000  \n",
       "1     -0.696062  0.096667  \n",
       "2     -1.234818  0.196667  \n",
       "3     -1.711705  0.283333  \n",
       "4     -3.369781  0.376667  "
      ]
     },
     "execution_count": 3,
     "metadata": {},
     "output_type": "execute_result"
    }
   ],
   "source": [
    "data.head()"
   ]
  },
  {
   "cell_type": "code",
   "execution_count": null,
   "metadata": {},
   "outputs": [],
   "source": []
  }
 ],
 "metadata": {
  "kernelspec": {
   "display_name": "Python 3",
   "language": "python",
   "name": "python3"
  },
  "language_info": {
   "codemirror_mode": {
    "name": "ipython",
    "version": 3
   },
   "file_extension": ".py",
   "mimetype": "text/x-python",
   "name": "python",
   "nbconvert_exporter": "python",
   "pygments_lexer": "ipython3",
   "version": "3.6.4"
  }
 },
 "nbformat": 4,
 "nbformat_minor": 2
}
