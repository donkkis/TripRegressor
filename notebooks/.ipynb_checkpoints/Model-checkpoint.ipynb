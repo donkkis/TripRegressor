{
 "cells": [
  {
   "cell_type": "code",
   "execution_count": 9,
   "metadata": {},
   "outputs": [],
   "source": [
    "import pandas as pd\n",
    "import matplotlib.pyplot as plt\n",
    "%matplotlib inline\n",
    "import tensorflow as tf"
   ]
  },
  {
   "cell_type": "markdown",
   "metadata": {},
   "source": [
    "### Load the dummy data and take a quick look around"
   ]
  },
  {
   "cell_type": "code",
   "execution_count": 14,
   "metadata": {},
   "outputs": [],
   "source": [
    "data = pd.read_csv('../data/midsize_dummy_preprocessed.csv')"
   ]
  },
  {
   "cell_type": "code",
   "execution_count": 15,
   "metadata": {},
   "outputs": [
    {
     "data": {
      "text/html": [
       "<div>\n",
       "<style scoped>\n",
       "    .dataframe tbody tr th:only-of-type {\n",
       "        vertical-align: middle;\n",
       "    }\n",
       "\n",
       "    .dataframe tbody tr th {\n",
       "        vertical-align: top;\n",
       "    }\n",
       "\n",
       "    .dataframe thead th {\n",
       "        text-align: right;\n",
       "    }\n",
       "</style>\n",
       "<table border=\"1\" class=\"dataframe\">\n",
       "  <thead>\n",
       "    <tr style=\"text-align: right;\">\n",
       "      <th></th>\n",
       "      <th>speed</th>\n",
       "      <th>temp</th>\n",
       "      <th>duration</th>\n",
       "      <th>sequence</th>\n",
       "      <th>distance</th>\n",
       "      <th>rel_altitude</th>\n",
       "      <th>rel_soc</th>\n",
       "    </tr>\n",
       "  </thead>\n",
       "  <tbody>\n",
       "    <tr>\n",
       "      <th>0</th>\n",
       "      <td>25.570312</td>\n",
       "      <td>-0.661392</td>\n",
       "      <td>0</td>\n",
       "      <td>1</td>\n",
       "      <td>0.000000</td>\n",
       "      <td>0.000000</td>\n",
       "      <td>-0.000000</td>\n",
       "    </tr>\n",
       "    <tr>\n",
       "      <th>1</th>\n",
       "      <td>27.574219</td>\n",
       "      <td>-0.677215</td>\n",
       "      <td>5</td>\n",
       "      <td>1</td>\n",
       "      <td>0.040666</td>\n",
       "      <td>-0.696062</td>\n",
       "      <td>0.096667</td>\n",
       "    </tr>\n",
       "    <tr>\n",
       "      <th>2</th>\n",
       "      <td>30.535156</td>\n",
       "      <td>-0.693038</td>\n",
       "      <td>10</td>\n",
       "      <td>1</td>\n",
       "      <td>0.092468</td>\n",
       "      <td>-1.234818</td>\n",
       "      <td>0.196667</td>\n",
       "    </tr>\n",
       "    <tr>\n",
       "      <th>3</th>\n",
       "      <td>31.160156</td>\n",
       "      <td>-0.708861</td>\n",
       "      <td>15</td>\n",
       "      <td>1</td>\n",
       "      <td>0.142041</td>\n",
       "      <td>-1.711705</td>\n",
       "      <td>0.283333</td>\n",
       "    </tr>\n",
       "    <tr>\n",
       "      <th>4</th>\n",
       "      <td>34.199219</td>\n",
       "      <td>-0.724684</td>\n",
       "      <td>20</td>\n",
       "      <td>1</td>\n",
       "      <td>0.186323</td>\n",
       "      <td>-3.369781</td>\n",
       "      <td>0.376667</td>\n",
       "    </tr>\n",
       "  </tbody>\n",
       "</table>\n",
       "</div>"
      ],
      "text/plain": [
       "       speed      temp  duration  sequence  distance  rel_altitude   rel_soc\n",
       "0  25.570312 -0.661392         0         1  0.000000      0.000000 -0.000000\n",
       "1  27.574219 -0.677215         5         1  0.040666     -0.696062  0.096667\n",
       "2  30.535156 -0.693038        10         1  0.092468     -1.234818  0.196667\n",
       "3  31.160156 -0.708861        15         1  0.142041     -1.711705  0.283333\n",
       "4  34.199219 -0.724684        20         1  0.186323     -3.369781  0.376667"
      ]
     },
     "execution_count": 15,
     "metadata": {},
     "output_type": "execute_result"
    }
   ],
   "source": [
    "data.head()"
   ]
  },
  {
   "cell_type": "code",
   "execution_count": 16,
   "metadata": {},
   "outputs": [
    {
     "data": {
      "text/plain": [
       "100000"
      ]
     },
     "execution_count": 16,
     "metadata": {},
     "output_type": "execute_result"
    }
   ],
   "source": [
    "len(data)"
   ]
  },
  {
   "cell_type": "code",
   "execution_count": 17,
   "metadata": {},
   "outputs": [
    {
     "data": {
      "text/plain": [
       "array([[<matplotlib.axes._subplots.AxesSubplot object at 0x0000000026F83D68>,\n",
       "        <matplotlib.axes._subplots.AxesSubplot object at 0x00000000237D6898>,\n",
       "        <matplotlib.axes._subplots.AxesSubplot object at 0x0000000023923588>],\n",
       "       [<matplotlib.axes._subplots.AxesSubplot object at 0x000000002731BD68>,\n",
       "        <matplotlib.axes._subplots.AxesSubplot object at 0x00000000236E8908>,\n",
       "        <matplotlib.axes._subplots.AxesSubplot object at 0x00000000236E8940>],\n",
       "       [<matplotlib.axes._subplots.AxesSubplot object at 0x00000000271F8278>,\n",
       "        <matplotlib.axes._subplots.AxesSubplot object at 0x00000000237130B8>,\n",
       "        <matplotlib.axes._subplots.AxesSubplot object at 0x00000000274FD208>]],\n",
       "      dtype=object)"
      ]
     },
     "execution_count": 17,
     "metadata": {},
     "output_type": "execute_result"
    },
    {
     "data": {
      "image/png": "[encoded data removed]",
      "text/plain": [
       "<matplotlib.figure.Figure at 0x26f83198>"
      ]
     },
     "metadata": {},
     "output_type": "display_data"
    }
   ],
   "source": [
    "data.hist(bins=20, figsize=(15,10))"
   ]
  },
  {
   "cell_type": "code",
   "execution_count": 19,
   "metadata": {},
   "outputs": [
    {
     "name": "stdout",
     "output_type": "stream",
     "text": [
      "<class 'pandas.core.frame.DataFrame'>\n",
      "RangeIndex: 100000 entries, 0 to 99999\n",
      "Data columns (total 7 columns):\n",
      "speed           100000 non-null float64\n",
      "temp            100000 non-null float64\n",
      "duration        100000 non-null int64\n",
      "sequence        100000 non-null int64\n",
      "distance        100000 non-null float64\n",
      "rel_altitude    100000 non-null float64\n",
      "rel_soc         100000 non-null float64\n",
      "dtypes: float64(5), int64(2)\n",
      "memory usage: 5.3 MB\n"
     ]
    }
   ],
   "source": [
    "data.info()"
   ]
  },
  {
   "cell_type": "code",
   "execution_count": 20,
   "metadata": {},
   "outputs": [
    {
     "data": {
      "text/html": [
       "<div>\n",
       "<style scoped>\n",
       "    .dataframe tbody tr th:only-of-type {\n",
       "        vertical-align: middle;\n",
       "    }\n",
       "\n",
       "    .dataframe tbody tr th {\n",
       "        vertical-align: top;\n",
       "    }\n",
       "\n",
       "    .dataframe thead th {\n",
       "        text-align: right;\n",
       "    }\n",
       "</style>\n",
       "<table border=\"1\" class=\"dataframe\">\n",
       "  <thead>\n",
       "    <tr style=\"text-align: right;\">\n",
       "      <th></th>\n",
       "      <th>speed</th>\n",
       "      <th>temp</th>\n",
       "      <th>duration</th>\n",
       "      <th>sequence</th>\n",
       "      <th>distance</th>\n",
       "      <th>rel_altitude</th>\n",
       "      <th>rel_soc</th>\n",
       "    </tr>\n",
       "  </thead>\n",
       "  <tbody>\n",
       "    <tr>\n",
       "      <th>count</th>\n",
       "      <td>100000.000000</td>\n",
       "      <td>100000.000000</td>\n",
       "      <td>100000.000000</td>\n",
       "      <td>100000.00000</td>\n",
       "      <td>100000.000000</td>\n",
       "      <td>100000.000000</td>\n",
       "      <td>100000.000000</td>\n",
       "    </tr>\n",
       "    <tr>\n",
       "      <th>mean</th>\n",
       "      <td>30.574375</td>\n",
       "      <td>1.219536</td>\n",
       "      <td>544.320280</td>\n",
       "      <td>242.88223</td>\n",
       "      <td>3.563416</td>\n",
       "      <td>-27.932265</td>\n",
       "      <td>5.776295</td>\n",
       "    </tr>\n",
       "    <tr>\n",
       "      <th>std</th>\n",
       "      <td>16.407098</td>\n",
       "      <td>4.032229</td>\n",
       "      <td>334.857363</td>\n",
       "      <td>139.85154</td>\n",
       "      <td>2.026561</td>\n",
       "      <td>13.496711</td>\n",
       "      <td>3.282041</td>\n",
       "    </tr>\n",
       "    <tr>\n",
       "      <th>min</th>\n",
       "      <td>0.000000</td>\n",
       "      <td>-39.849462</td>\n",
       "      <td>0.000000</td>\n",
       "      <td>1.00000</td>\n",
       "      <td>0.000000</td>\n",
       "      <td>-49.717242</td>\n",
       "      <td>-0.243333</td>\n",
       "    </tr>\n",
       "    <tr>\n",
       "      <th>25%</th>\n",
       "      <td>18.941406</td>\n",
       "      <td>-0.588785</td>\n",
       "      <td>256.000000</td>\n",
       "      <td>122.00000</td>\n",
       "      <td>1.674787</td>\n",
       "      <td>-39.941004</td>\n",
       "      <td>3.100000</td>\n",
       "    </tr>\n",
       "    <tr>\n",
       "      <th>50%</th>\n",
       "      <td>34.113281</td>\n",
       "      <td>2.012308</td>\n",
       "      <td>527.000000</td>\n",
       "      <td>243.00000</td>\n",
       "      <td>3.582275</td>\n",
       "      <td>-30.538366</td>\n",
       "      <td>5.614286</td>\n",
       "    </tr>\n",
       "    <tr>\n",
       "      <th>75%</th>\n",
       "      <td>43.839844</td>\n",
       "      <td>3.695444</td>\n",
       "      <td>814.000000</td>\n",
       "      <td>364.00000</td>\n",
       "      <td>5.483049</td>\n",
       "      <td>-19.006551</td>\n",
       "      <td>8.366667</td>\n",
       "    </tr>\n",
       "    <tr>\n",
       "      <th>max</th>\n",
       "      <td>255.996094</td>\n",
       "      <td>10.639733</td>\n",
       "      <td>1604.000000</td>\n",
       "      <td>486.00000</td>\n",
       "      <td>6.678766</td>\n",
       "      <td>6.681012</td>\n",
       "      <td>17.954762</td>\n",
       "    </tr>\n",
       "  </tbody>\n",
       "</table>\n",
       "</div>"
      ],
      "text/plain": [
       "               speed           temp       duration      sequence  \\\n",
       "count  100000.000000  100000.000000  100000.000000  100000.00000   \n",
       "mean       30.574375       1.219536     544.320280     242.88223   \n",
       "std        16.407098       4.032229     334.857363     139.85154   \n",
       "min         0.000000     -39.849462       0.000000       1.00000   \n",
       "25%        18.941406      -0.588785     256.000000     122.00000   \n",
       "50%        34.113281       2.012308     527.000000     243.00000   \n",
       "75%        43.839844       3.695444     814.000000     364.00000   \n",
       "max       255.996094      10.639733    1604.000000     486.00000   \n",
       "\n",
       "            distance   rel_altitude        rel_soc  \n",
       "count  100000.000000  100000.000000  100000.000000  \n",
       "mean        3.563416     -27.932265       5.776295  \n",
       "std         2.026561      13.496711       3.282041  \n",
       "min         0.000000     -49.717242      -0.243333  \n",
       "25%         1.674787     -39.941004       3.100000  \n",
       "50%         3.582275     -30.538366       5.614286  \n",
       "75%         5.483049     -19.006551       8.366667  \n",
       "max         6.678766       6.681012      17.954762  "
      ]
     },
     "execution_count": 20,
     "metadata": {},
     "output_type": "execute_result"
    }
   ],
   "source": [
    "data.describe()"
   ]
  },
  {
   "cell_type": "code",
   "execution_count": null,
   "metadata": {},
   "outputs": [],
   "source": []
  }
 ],
 "metadata": {
  "kernelspec": {
   "display_name": "Python 3",
   "language": "python",
   "name": "python3"
  },
  "language_info": {
   "codemirror_mode": {
    "name": "ipython",
    "version": 3
   },
   "file_extension": ".py",
   "mimetype": "text/x-python",
   "name": "python",
   "nbconvert_exporter": "python",
   "pygments_lexer": "ipython3",
   "version": "3.6.4"
  }
 },
 "nbformat": 4,
 "nbformat_minor": 2
}
